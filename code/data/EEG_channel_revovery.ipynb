{
  "cells": [
    {
      "cell_type": "markdown",
      "metadata": {
        "id": "8uB5Orn1SRcS"
      },
      "source": [
        "Этот ноутбук --- для реализации функции восстановления сигнала одного из датчиков EEG системы по другим, имеющимся показаниям.\n",
        "\n",
        "Что будет сделано:\n",
        "\n",
        "1. Реализованы разные способы восстановления\n",
        "2. Замерены результаты восстановления\n",
        "3. на github залит ноутбук с описанием, как этим пользоваться"
      ]
    },
    {
      "cell_type": "markdown",
      "metadata": {
        "id": "Hxbca0TYlv7-"
      },
      "source": [
        "### Data downloading"
      ]
    },
    {
      "cell_type": "code",
      "execution_count": null,
      "metadata": {
        "id": "RcYiq5jaUIro"
      },
      "outputs": [],
      "source": [
        "!rm -rf CreationOfIntelligentSystems_Simultaneous_fMRI-EEG/\n",
        "!git clone -b data https://github.com/intsystems/CreationOfIntelligentSystems_Simultaneous_fMRI-EEG.git\n",
        "%cd /content/CreationOfIntelligentSystems_Simultaneous_fMRI-EEG/code/data"
      ]
    },
    {
      "cell_type": "code",
      "execution_count": null,
      "metadata": {
        "colab": {
          "base_uri": "https://localhost:8080/"
        },
        "id": "IdkG1pfgWBZD",
        "outputId": "6d472cc4-6837-45f1-a3a0-b03b2747a834"
      },
      "outputs": [
        {
          "name": "stdout",
          "output_type": "stream",
          "text": [
            "data_labeling.py  data_visualization.ipynb  image_dataset.ipynb   load_natview_subs.py\tutils.py\n",
            "dataset.ipynb\t  environment.yml\t    load_natview_data.sh  README.md\n"
          ]
        }
      ],
      "source": [
        "!ls"
      ]
    },
    {
      "cell_type": "code",
      "execution_count": 1,
      "metadata": {
        "id": "YsnRAXrSAY8n"
      },
      "outputs": [],
      "source": [
        "!mkdir -p /content/CreationOfIntelligentSystems_Simultaneous_fMRI-EEG/code/data/natview/data/"
      ]
    },
    {
      "cell_type": "code",
      "execution_count": 2,
      "metadata": {
        "id": "kRoNPo2HAC7H"
      },
      "outputs": [],
      "source": [
        "!cp /content/drive/MyDrive/EEG/sub-01.tar.gz /content/CreationOfIntelligentSystems_Simultaneous_fMRI-EEG/code/data/natview/data/sub-01.tar.gz"
      ]
    },
    {
      "cell_type": "code",
      "execution_count": 10,
      "metadata": {
        "id": "UFuesDD7iHRv"
      },
      "outputs": [],
      "source": [
        "!mkdir -p natview/data"
      ]
    },
    {
      "cell_type": "code",
      "execution_count": null,
      "metadata": {
        "collapsed": true,
        "id": "TWc8GbtHaxy9"
      },
      "outputs": [],
      "source": [
        "file = '/content/CreationOfIntelligentSystems_Simultaneous_fMRI-EEG/code/data/natview/data/sub-01.tar.gz'\n",
        "!tar -xzvf $file -C ./natview/data"
      ]
    },
    {
      "cell_type": "code",
      "execution_count": 4,
      "metadata": {
        "colab": {
          "base_uri": "https://localhost:8080/"
        },
        "collapsed": true,
        "id": "3DZ6nwniaeIo",
        "outputId": "7f31c3bc-5612-4483-a799-7b7d6342a67c"
      },
      "outputs": [
        {
          "name": "stdout",
          "output_type": "stream",
          "text": [
            "\u001b[2K   \u001b[90m━━━━━━━━━━━━━━━━━━━━━━━━━━━━━━━━━━━━━━━━\u001b[0m \u001b[32m10.4/10.4 MB\u001b[0m \u001b[31m76.8 MB/s\u001b[0m eta \u001b[36m0:00:00\u001b[0m\n",
            "\u001b[2K   \u001b[90m━━━━━━━━━━━━━━━━━━━━━━━━━━━━━━━━━━━━━━━━\u001b[0m \u001b[32m7.4/7.4 MB\u001b[0m \u001b[31m52.0 MB/s\u001b[0m eta \u001b[36m0:00:00\u001b[0m\n",
            "\u001b[?25h"
          ]
        }
      ],
      "source": [
        "!pip install nilearn -q\n",
        "!pip install mne -q"
      ]
    },
    {
      "cell_type": "markdown",
      "metadata": {
        "id": "JgGvqIxflzSe"
      },
      "source": [
        "### Source code"
      ]
    },
    {
      "cell_type": "code",
      "execution_count": 24,
      "metadata": {
        "id": "C03xp4OqZ85J"
      },
      "outputs": [],
      "source": [
        "from nilearn import plotting\n",
        "import nibabel as nib\n",
        "import numpy as np\n",
        "import matplotlib.pyplot as plt\n",
        "import seaborn as sns\n",
        "import pandas as pd\n",
        "from mne.io import read_raw_eeglab\n",
        "import mne\n",
        "from collections import OrderedDict"
      ]
    },
    {
      "cell_type": "code",
      "execution_count": 15,
      "metadata": {
        "colab": {
          "base_uri": "https://localhost:8080/"
        },
        "id": "jDlzKr3RccCk",
        "outputId": "750c43ba-a061-446e-8958-28bcb3dd2113"
      },
      "outputs": [
        {
          "name": "stderr",
          "output_type": "stream",
          "text": [
            "<ipython-input-15-356b7636c2fb>:6: RuntimeWarning: Data will be preloaded. preload=False or a string preload is not supported when the data is stored in the .set file\n",
            "  raw_data = read_raw_eeglab(path)\n",
            "<ipython-input-15-356b7636c2fb>:6: RuntimeWarning: Limited 3 annotation(s) that were expanding outside the data range.\n",
            "  raw_data = read_raw_eeglab(path)\n",
            "<ipython-input-15-356b7636c2fb>:6: RuntimeWarning: The data contains 'boundary' events, indicating data discontinuities. Be cautious of filtering and epoching around these events.\n",
            "  raw_data = read_raw_eeglab(path)\n"
          ]
        },
        {
          "data": {
            "text/plain": [
              "(60, 146875)"
            ]
          },
          "execution_count": 15,
          "metadata": {},
          "output_type": "execute_result"
        }
      ],
      "source": [
        "sub_idx = 1\n",
        "session_idx = 1\n",
        "\n",
        "path = f'natview/data/sub-{sub_idx:02d}/ses-{session_idx:02d}/eeg/sub-{sub_idx:02d}_ses-{session_idx:02d}_task-dme_run-01_eeg.set'\n",
        "\n",
        "raw_data = read_raw_eeglab(path)\n",
        "data = np.array(raw_data.get_data())\n",
        "data.shape"
      ]
    },
    {
      "cell_type": "code",
      "execution_count": 27,
      "metadata": {
        "id": "hPQj4_S3ihip"
      },
      "outputs": [],
      "source": [
        "import mne\n",
        "from collections import OrderedDict\n",
        "from copy import copy\n",
        "\n",
        "class ChannelRecovering:\n",
        "    '''\n",
        "        all methods, used to recover missing eeg channels, based on existing\n",
        "        important: part of code was apatped from https://github.com/intsystems/CreationOfIntelligentSystems_Simultaneous_fMRI-EEG/blob/data/code/data/dataset.ipynb\n",
        "\n",
        "        ALL methods are static\n",
        "\n",
        "        You need methods:\n",
        "\n",
        "    '''\n",
        "\n",
        "    all_eeg_channels_ordered = [\n",
        "            'AF3', 'AF4', 'AF7', 'AF8', 'C1', 'C2', 'C3', 'C4', 'C5', 'C6',\n",
        "            'CP1', 'CP2', 'CP3', 'CP4', 'CP5', 'CP6', 'CPz', 'Cz', 'F1', 'F2',\n",
        "            'F3', 'F4', 'F5', 'F6', 'F7', 'F8', 'FC1', 'FC2', 'FC3', 'FC4',\n",
        "            'FC5', 'FC6', 'FT7', 'FT8', 'Fp1', 'Fp2', 'Fpz', 'Fz', 'O1', 'O2',\n",
        "            'Oz', 'P1', 'P2', 'P3', 'P4', 'P5', 'P6', 'P7', 'P8', 'PO3', 'PO4',\n",
        "            'PO7', 'PO8', 'POz', 'Pz', 'T7', 'T8', 'TP10', 'TP7', 'TP8', 'TP9'\n",
        "    ]\n",
        "\n",
        "    EPS = 1e-3\n",
        "\n",
        "    def __init__(self):\n",
        "        pass\n",
        "\n",
        "    ### common method for inserting NaNs for unpresen channels\n",
        "    @staticmethod\n",
        "    def insert_nan_rows_in_array(raw_data):\n",
        "        '''\n",
        "            adds novel channels into raw_data and fiils it with Nones\n",
        "\n",
        "            returns:\n",
        "                - raw_data (np.array) with Nans of shape [n_channels, time]\n",
        "                - nan_ids (list[int]) with indicies of nan channels (they will be recovered later)\n",
        "\n",
        "            important: code was apatped from https://github.com/intsystems/CreationOfIntelligentSystems_Simultaneous_fMRI-EEG/blob/data/code/data/dataset.ipynb\n",
        "        '''\n",
        "\n",
        "        all_ordered_channels = ChannelRecovering.all_eeg_channels_ordered\n",
        "\n",
        "        raw_data_ordered = raw_data.reorder_channels(sorted(list(set(all_ordered_channels) & set(raw_data.ch_names))))\n",
        "        current_channels_ordered = raw_data_ordered.ch_names\n",
        "        good_indices = []\n",
        "        i = 0\n",
        "        j = 0\n",
        "        while i < len(current_channels_ordered) and j < len(all_ordered_channels):\n",
        "            if current_channels_ordered[i] == all_ordered_channels[j]:\n",
        "                good_indices.append(j)\n",
        "                i += 1\n",
        "                j += 1\n",
        "            else:\n",
        "                j += 1\n",
        "        raw_data_array = raw_data_ordered.get_data()\n",
        "        raw_data_array_with_inserted_NaN_rows = np.empty(shape=(len(all_ordered_channels), raw_data_array.shape[1])) # np.zeros((len(all_eeg_channels_ordered), raw_data_array.shape[1]))\n",
        "        raw_data_array_with_inserted_NaN_rows[:] = np.nan\n",
        "\n",
        "        for i, idx in enumerate(good_indices):\n",
        "            raw_data_array_with_inserted_NaN_rows[idx] = raw_data_array[i]\n",
        "\n",
        "\n",
        "        NaN_ids = np.arange(len(all_ordered_channels))[np.isnan(raw_data_array_with_inserted_NaN_rows).all(axis=1)]\n",
        "\n",
        "        return raw_data_array_with_inserted_NaN_rows, NaN_ids\n",
        "\n",
        "    ### 2 functions below for eucludean NN replace\n",
        "    @staticmethod\n",
        "    def _find_existing_euclidean_nn(nan_ids, curr_id, all_values):\n",
        "        '''\n",
        "            all_values: np.array [n_channels, 3] with spaial coordinates\n",
        "\n",
        "            find nearest to curr_id channel, that is not contained in nan_ids and != curr_id\n",
        "        '''\n",
        "\n",
        "        sq_dists = ((all_values - all_values[curr_id])**2).mean(axis=1) # [n_channels]\n",
        "\n",
        "        sorted_nearest_ids = np.argsort(sq_dists)\n",
        "\n",
        "        for near_id in sorted_nearest_ids:\n",
        "            if near_id not in nan_ids and near_id != curr_id:\n",
        "                return near_id\n",
        "\n",
        "        assert False, f\"Failed to found nearest existing to {curr_id}. nan_ids: {nan_ids.shape}\"\n",
        "\n",
        "    @staticmethod\n",
        "    def replace_NaN_with_euclidean_nearest_neighbour(eeg_with_nans, nan_ids):\n",
        "        eeg_with_nans = eeg_with_nans.copy()\n",
        "        # Load a standard montage\n",
        "        montage = mne.channels.make_standard_montage('standard_1020')\n",
        "\n",
        "        # Get the positions of your channels\n",
        "        channel_positions = montage.get_positions()['ch_pos']\n",
        "\n",
        "        ordered = OrderedDict((k, channel_positions[k]) for k in ChannelRecovering.all_eeg_channels_ordered)\n",
        "        all_values = np.array([ordered[ch_name] for ch_name in ChannelRecovering.all_eeg_channels_ordered])\n",
        "\n",
        "        replace_ids = []\n",
        "        for nan_id in nan_ids:\n",
        "            rep_id = ChannelRecovering._find_existing_euclidean_nn(nan_ids, nan_id, all_values)\n",
        "            replace_ids.append(rep_id)\n",
        "\n",
        "        for nan_id, rep_id in zip(nan_ids, replace_ids):\n",
        "            eeg_with_nans[nan_id] = eeg_with_nans[rep_id]\n",
        "\n",
        "        return eeg_with_nans\n",
        "\n",
        "    ### baseline: replace with zeros\n",
        "    @staticmethod\n",
        "    def replace_NaN_with_zeros(eeg_with_nans, nan_ids):\n",
        "        eeg_with_nans = eeg_with_nans.copy()\n",
        "\n",
        "\n",
        "        # Load a standard montage\n",
        "        montage = mne.channels.make_standard_montage('standard_1020')\n",
        "\n",
        "        # Get the positions of your channels\n",
        "        channel_positions = montage.get_positions()['ch_pos']\n",
        "\n",
        "        ordered = OrderedDict((k, channel_positions[k]) for k in ChannelRecovering.all_eeg_channels_ordered)\n",
        "        all_values = np.array([ordered[ch_name] for ch_name in ChannelRecovering.all_eeg_channels_ordered])\n",
        "\n",
        "        for nan_id in nan_ids:\n",
        "            eeg_with_nans[nan_id] = 0\n",
        "\n",
        "        return eeg_with_nans\n",
        "\n",
        "\n",
        "\n",
        "    ### 2 functions below for advanced kNN replacement\n",
        "    @staticmethod\n",
        "    def _find_k_NNs_with_dist_weights_except(k, curr_id, sensors_coordinate, except_lst):\n",
        "\n",
        "        assert k > 0\n",
        "\n",
        "        dists = np.sqrt(((sensors_coordinate - sensors_coordinate[curr_id])**2).mean(axis=1)) # [n_channels]\n",
        "\n",
        "        sorted_nearest_ids = np.argsort(dists)\n",
        "\n",
        "        found_idx = []\n",
        "        found_dists = []\n",
        "\n",
        "        for near_id in sorted_nearest_ids:\n",
        "            if near_id not in except_lst:\n",
        "                found_idx.append(near_id)\n",
        "                found_dists.append(dists[near_id])\n",
        "\n",
        "                if len(found_idx) == k:\n",
        "                    return found_idx, found_dists\n",
        "\n",
        "\n",
        "        assert False, f\"Failed to found nearest existing to {curr_id}.\"\n",
        "\n",
        "\n",
        "    @staticmethod\n",
        "    def replace_NaN_with_eucl_weighted_nearest_neighbour(eeg_with_nans, nan_ids, n_neighbours=3):\n",
        "        eeg_with_nans = eeg_with_nans.copy()\n",
        "        # Load a standard montage\n",
        "        montage = mne.channels.make_standard_montage('standard_1020')\n",
        "\n",
        "        # Get the positions of your channels\n",
        "        channel_positions = montage.get_positions()['ch_pos']\n",
        "\n",
        "        ordered = OrderedDict((k, channel_positions[k]) for k in ChannelRecovering.all_eeg_channels_ordered)\n",
        "        all_values = np.array([ordered[ch_name] for ch_name in ChannelRecovering.all_eeg_channels_ordered])\n",
        "\n",
        "        replace_into = []\n",
        "        for nan_id in nan_ids:\n",
        "            rep_ids, rep_dists = ChannelRecovering._find_k_NNs_with_dist_weights_except(n_neighbours, nan_id, all_values, nan_ids)\n",
        "\n",
        "            weights = 1 / (np.array(rep_dists) + ChannelRecovering.EPS)[:, None]\n",
        "\n",
        "            replace_into.append((eeg_with_nans[rep_ids] * weights).sum(axis=0) / weights.sum())\n",
        "\n",
        "        for nan_id, rep_into in zip(nan_ids, replace_into):\n",
        "            eeg_with_nans[nan_id] = rep_into\n",
        "\n",
        "        return eeg_with_nans\n"
      ]
    },
    {
      "cell_type": "code",
      "execution_count": 19,
      "metadata": {
        "id": "Qkl-3UsQlfK8"
      },
      "outputs": [],
      "source": [
        "def get_eeg_recovered_v1(eeg):\n",
        "    '''\n",
        "        reconstructs each row with algo\n",
        "\n",
        "        algo: eeg, [id] -> reconstructed\n",
        "    '''\n",
        "\n",
        "    eeg_new = eeg.copy()\n",
        "\n",
        "    all_eeg_channels_ordered = [\n",
        "        'AF3', 'AF4', 'AF7', 'AF8', 'C1', 'C2', 'C3', 'C4', 'C5', 'C6',\n",
        "        'CP1', 'CP2', 'CP3', 'CP4', 'CP5', 'CP6', 'CPz', 'Cz', 'F1', 'F2',\n",
        "        'F3', 'F4', 'F5', 'F6', 'F7', 'F8', 'FC1', 'FC2', 'FC3', 'FC4',\n",
        "        'FC5', 'FC6', 'FT7', 'FT8', 'Fp1', 'Fp2', 'Fpz', 'Fz', 'O1', 'O2',\n",
        "        'Oz', 'P1', 'P2', 'P3', 'P4', 'P5', 'P6', 'P7', 'P8', 'PO3', 'PO4',\n",
        "        'PO7', 'PO8', 'POz', 'Pz', 'T7', 'T8', 'TP10', 'TP7', 'TP8', 'TP9'\n",
        "    ]\n",
        "\n",
        "    # Load a standard montage\n",
        "    montage = mne.channels.make_standard_montage('standard_1020')\n",
        "\n",
        "    # Get the positions of your channels\n",
        "    channel_positions = montage.get_positions()['ch_pos']\n",
        "\n",
        "    ordered = OrderedDict((k, channel_positions[k]) for k in all_eeg_channels_ordered)\n",
        "    all_values = np.array([ordered[ch_name] for ch_name in all_eeg_channels_ordered])\n",
        "\n",
        "    nan_ids = np.arange(len(all_eeg_channels_ordered))\n",
        "\n",
        "    replace_ids = []\n",
        "    for nan_id in nan_ids:\n",
        "        rep_id = ChannelRecovering._find_existing_euclidean_nn([], nan_id, all_values)\n",
        "        replace_ids.append(rep_id)\n",
        "\n",
        "    for nan_id, rep_id in zip(nan_ids, replace_ids):\n",
        "        # print(f'{nan_id} <- {rep_id}')\n",
        "        eeg_new[nan_id] = eeg[rep_id]\n",
        "\n",
        "    return eeg_new"
      ]
    },
    {
      "cell_type": "code",
      "execution_count": 21,
      "metadata": {
        "id": "UsR-SiW9HcLq"
      },
      "outputs": [],
      "source": [
        "def get_eeg_recovered_v2(eeg):\n",
        "    return np.zeros_like(eeg)"
      ]
    },
    {
      "cell_type": "code",
      "execution_count": 22,
      "metadata": {
        "id": "ARJ_UhkNJn5E"
      },
      "outputs": [],
      "source": [
        "EPS = 1e-3\n",
        "\n",
        "def eeg_recover_v3(eeg, n_neighbours=3):\n",
        "    new_eeg = eeg.copy()\n",
        "    all_eeg_channels_ordered = [\n",
        "        'AF3', 'AF4', 'AF7', 'AF8', 'C1', 'C2', 'C3', 'C4', 'C5', 'C6',\n",
        "        'CP1', 'CP2', 'CP3', 'CP4', 'CP5', 'CP6', 'CPz', 'Cz', 'F1', 'F2',\n",
        "        'F3', 'F4', 'F5', 'F6', 'F7', 'F8', 'FC1', 'FC2', 'FC3', 'FC4',\n",
        "        'FC5', 'FC6', 'FT7', 'FT8', 'Fp1', 'Fp2', 'Fpz', 'Fz', 'O1', 'O2',\n",
        "        'Oz', 'P1', 'P2', 'P3', 'P4', 'P5', 'P6', 'P7', 'P8', 'PO3', 'PO4',\n",
        "        'PO7', 'PO8', 'POz', 'Pz', 'T7', 'T8', 'TP10', 'TP7', 'TP8', 'TP9'\n",
        "    ]\n",
        "\n",
        "    # Load a standard montage\n",
        "    montage = mne.channels.make_standard_montage('standard_1020')\n",
        "\n",
        "    # Get the positions of your channels\n",
        "    channel_positions = montage.get_positions()['ch_pos']\n",
        "\n",
        "    ordered = OrderedDict((k, channel_positions[k]) for k in all_eeg_channels_ordered)\n",
        "    all_values = np.array([ordered[ch_name] for ch_name in all_eeg_channels_ordered])\n",
        "\n",
        "    nan_ids = np.arange(len(all_eeg_channels_ordered))\n",
        "\n",
        "    replace_into = []\n",
        "    for nan_id in nan_ids:\n",
        "        rep_ids, rep_dists = ChannelRecovering._find_k_NNs_with_dist_weights_except(n_neighbours, nan_id, all_values, [nan_id])\n",
        "\n",
        "        weights = 1 / (np.array(rep_dists) + EPS)[:, None]\n",
        "\n",
        "        replace_into.append((eeg[rep_ids] * weights).sum(axis=0) / weights.sum())\n",
        "\n",
        "    for nan_id, rep_into in zip(nan_ids, replace_into):\n",
        "        new_eeg[nan_id] = rep_into\n",
        "\n",
        "    return new_eeg"
      ]
    },
    {
      "cell_type": "markdown",
      "metadata": {
        "id": "Y7dfQ9maA4rA"
      },
      "source": [
        "#### Будем считать, как хорошо получилось (по MSE и MAE расстоянию)."
      ]
    },
    {
      "cell_type": "code",
      "execution_count": 30,
      "metadata": {
        "id": "TXlzXMPrg_07"
      },
      "outputs": [],
      "source": [
        "eeg_with_nan, nan_ids = ChannelRecovering.insert_nan_rows_in_array(raw_data)\n",
        "\n",
        "# neighbour replacement\n",
        "eeg_replaced_neighbour = ChannelRecovering.replace_NaN_with_euclidean_nearest_neighbour(eeg_with_nan, nan_ids)\n",
        "eeg_recovered_neighbour = get_eeg_recovered_v1(eeg_replaced_neighbour)\n",
        "\n",
        "# zero replacement\n",
        "eeg_replaced_zero = ChannelRecovering.replace_NaN_with_zeros(eeg_with_nan, nan_ids)\n",
        "eeg_recovered_zero = get_eeg_recovered_v2(eeg_replaced_zero)\n",
        "\n",
        "# knn rep =3\n",
        "eeg_replaced_knn = ChannelRecovering.replace_NaN_with_eucl_weighted_nearest_neighbour(eeg_with_nan, nan_ids, n_neighbours=3)\n",
        "eeg_recovered_knn = eeg_recover_v3(eeg_replaced_knn, n_neighbours=3)\n",
        "\n",
        "# knn rep =5\n",
        "eeg_replaced_knn5 = ChannelRecovering.replace_NaN_with_eucl_weighted_nearest_neighbour(eeg_with_nan, nan_ids, n_neighbours=5)\n",
        "eeg_recovered_knn5 = eeg_recover_v3(eeg_replaced_knn, n_neighbours=5)"
      ]
    },
    {
      "cell_type": "code",
      "execution_count": 33,
      "metadata": {
        "colab": {
          "base_uri": "https://localhost:8080/",
          "height": 462
        },
        "id": "xeKRkBielblm",
        "outputId": "dff422ce-f316-4742-c672-484dcec8b1fa"
      },
      "outputs": [
        {
          "data": {
            "text/plain": [
              "<matplotlib.legend.Legend at 0x7f73daaf8190>"
            ]
          },
          "execution_count": 33,
          "metadata": {},
          "output_type": "execute_result"
        },
        {
          "data": {
            "image/png": "[encoded data removed]",
            "text/plain": [
              "<Figure size 640x480 with 1 Axes>"
            ]
          },
          "metadata": {},
          "output_type": "display_data"
        }
      ],
      "source": [
        "def get_L2_distance(eeg1, eeg2):\n",
        "    return np.sqrt(((eeg1 - eeg2) ** 2).mean(axis=1))\n",
        "\n",
        "plt.plot(get_L2_distance(eeg_recovered_neighbour, eeg_replaced_neighbour), label='neighbour', color='blue')\n",
        "# plt.plot(get_L1_distance(eeg_recovered, eeg_replaced), label='L1', color='red')\n",
        "plt.plot(get_L2_distance(eeg_recovered_zero, eeg_replaced_zero), label='zero', color='red')\n",
        "plt.plot(get_L2_distance(eeg_replaced_knn, eeg_recovered_knn), label='knn=3', color='green')\n",
        "plt.plot(get_L2_distance(eeg_replaced_knn5, eeg_recovered_knn5), label='knn=5', color='yellow')\n",
        "\n",
        "# plt.plot(get_L2_distance(eeg_replaced_knn3_sphere, eeg_recovered_knn3_sphere), label='knn spher =3', color='black')\n",
        "\n",
        "\n",
        "plt.legend()"
      ]
    },
    {
      "cell_type": "code",
      "execution_count": null,
      "metadata": {
        "id": "isFy5wf1lNdM"
      },
      "outputs": [],
      "source": []
    }
  ],
  "metadata": {
    "colab": {
      "provenance": []
    },
    "kernelspec": {
      "display_name": "Python 3",
      "name": "python3"
    },
    "language_info": {
      "name": "python"
    }
  },
  "nbformat": 4,
  "nbformat_minor": 0
}
