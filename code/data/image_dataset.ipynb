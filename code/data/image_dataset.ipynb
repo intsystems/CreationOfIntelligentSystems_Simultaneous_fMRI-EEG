{
 "cells": [
  {
   "cell_type": "code",
   "execution_count": 2,
   "metadata": {},
   "outputs": [],
   "source": [
    "import cv2\n",
    "import os\n",
    "import glob\n",
    "\n",
    "def change_fps_and_save_frames(video_path, output_dir, target_fps, remove_previous_files=True):\n",
    "    # Create output directory if it doesn't exist\n",
    "    os.makedirs(output_dir, exist_ok=True)\n",
    "    \n",
    "    # Remove previous files in output directory\n",
    "    if remove_previous_files:\n",
    "        files = glob.glob(os.path.join(output_dir, '*'))\n",
    "        for f in files:\n",
    "            os.remove(f)\n",
    "\n",
    "    # Open the video file\n",
    "    cap = cv2.VideoCapture(video_path)\n",
    "\n",
    "    # Get original FPS and frame count\n",
    "    original_fps = cap.get(cv2.CAP_PROP_FPS)\n",
    "    total_frames = int(cap.get(cv2.CAP_PROP_FRAME_COUNT))\n",
    "    print(f\"Original FPS: {original_fps}, Total Frames: {total_frames}, Duration: {total_frames/original_fps}\")\n",
    "\n",
    "    # Calculate the interval to skip frames\n",
    "    frame_interval = int(original_fps / target_fps)\n",
    "\n",
    "    frame_count = 0\n",
    "    saved_frame_count = 0\n",
    "\n",
    "    while True:\n",
    "        ret, frame = cap.read()\n",
    "        if not ret:\n",
    "            break  # End of video\n",
    "\n",
    "        # Only save frames that match the target FPS\n",
    "        if frame_count % frame_interval == 0:\n",
    "            frame_filename = os.path.join(output_dir, f\"frame_{saved_frame_count:04d}.jpg\")\n",
    "            cv2.imwrite(frame_filename, frame)\n",
    "            saved_frame_count += 1\n",
    "\n",
    "        frame_count += 1\n",
    "\n",
    "    # Release the video capture object\n",
    "    cap.release()\n",
    "    print(f\"Saved {saved_frame_count} frames to {output_dir}\")"
   ]
  },
  {
   "cell_type": "code",
   "execution_count": null,
   "metadata": {},
   "outputs": [],
   "source": [
    "# Example usage\n",
    "key = 'dme'\n",
    "video_path = f'/home/jovyan/shares/SR004.nfs2/nkiselev/visual_stimuli_reconstruction/natview/data/stimuli/{key}.avi'  # Replace with your video path\n",
    "output_dir = f'/home/jovyan/shares/SR004.nfs2/nkiselev/visual_stimuli_reconstruction/natview/data/stimuli/{key}'            # Replace with your desired output directory\n",
    "target_fps = 3                          # Set your target FPS\n",
    "\n",
    "change_fps_and_save_frames(video_path, output_dir, target_fps, remove_previous_files=True)"
   ]
  },
  {
   "cell_type": "code",
   "execution_count": 5,
   "metadata": {},
   "outputs": [
    {
     "name": "stdout",
     "output_type": "stream",
     "text": [
      "Original FPS: 29.97002997002997, Total Frames: 17993, Duration: 600.3664333333334\n",
      "Saved 2000 frames to /home/jovyan/shares/SR004.nfs2/nkiselev/visual_stimuli_reconstruction/natview/data/stimuli/dme\n",
      "Original FPS: 29.97002997002997, Total Frames: 17994, Duration: 600.3998\n",
      "Saved 2000 frames to /home/jovyan/shares/SR004.nfs2/nkiselev/visual_stimuli_reconstruction/natview/data/stimuli/dmh\n",
      "Original FPS: 29.97002997002997, Total Frames: 7749, Duration: 258.55830000000003\n",
      "Saved 861 frames to /home/jovyan/shares/SR004.nfs2/nkiselev/visual_stimuli_reconstruction/natview/data/stimuli/tp\n",
      "Original FPS: 29.97002997002997, Total Frames: 17982, Duration: 599.9994\n",
      "Saved 1998 frames to /home/jovyan/shares/SR004.nfs2/nkiselev/visual_stimuli_reconstruction/natview/data/stimuli/inscapes\n",
      "Original FPS: 29.969730572122156, Total Frames: 10173, Duration: 339.442491\n",
      "Saved 1131 frames to /home/jovyan/shares/SR004.nfs2/nkiselev/visual_stimuli_reconstruction/natview/data/stimuli/monkey1\n",
      "Original FPS: 30.00030000300003, Total Frames: 9077, Duration: 302.56364099999996\n",
      "Saved 908 frames to /home/jovyan/shares/SR004.nfs2/nkiselev/visual_stimuli_reconstruction/natview/data/stimuli/monkey2\n",
      "Original FPS: 30.00030000300003, Total Frames: 9329, Duration: 310.963557\n",
      "Saved 933 frames to /home/jovyan/shares/SR004.nfs2/nkiselev/visual_stimuli_reconstruction/natview/data/stimuli/monkey5\n"
     ]
    }
   ],
   "source": [
    "target_fps = 3\n",
    "for key in ['dme', 'dmh', 'tp', 'inscapes', 'monkey1', 'monkey2', 'monkey5']:\n",
    "    video_path = f'/home/jovyan/shares/SR004.nfs2/nkiselev/visual_stimuli_reconstruction/natview/data/stimuli/{key}.avi'\n",
    "    output_dir = f'/home/jovyan/shares/SR004.nfs2/nkiselev/visual_stimuli_reconstruction/natview/data/stimuli/{key}'\n",
    "    change_fps_and_save_frames(video_path, output_dir, target_fps, remove_previous_files=True)"
   ]
  }
 ],
 "metadata": {
  "kernelspec": {
   "display_name": "visual_stimuli",
   "language": "python",
   "name": "python3"
  },
  "language_info": {
   "codemirror_mode": {
    "name": "ipython",
    "version": 3
   },
   "file_extension": ".py",
   "mimetype": "text/x-python",
   "name": "python",
   "nbconvert_exporter": "python",
   "pygments_lexer": "ipython3",
   "version": "3.10.14"
  }
 },
 "nbformat": 4,
 "nbformat_minor": 2
}
