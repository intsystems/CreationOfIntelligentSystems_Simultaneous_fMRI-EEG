{
 "cells": [
  {
   "cell_type": "code",
   "execution_count": null,
   "metadata": {},
   "outputs": [],
   "source": [
    "from diffusers import AutoPipelineForText2Image\n",
    "from diffusers.utils import load_image\n",
    "import torch"
   ]
  },
  {
   "cell_type": "code",
   "execution_count": null,
   "metadata": {},
   "outputs": [],
   "source": [
    "pipe = AutoPipelineForText2Image.from_pretrained(\n",
    "    \"stabilityai/stable-diffusion-xl-base-1.0\", \n",
    "    torch_dtype=torch.float16\n",
    ").to(\"cuda\")\n",
    "\n",
    "pipe.load_ip_adapter(\n",
    "    \"h94/IP-Adapter\", \n",
    "    subfolder=\"sdxl_models\", \n",
    "    weight_name=\"ip-adapter_sdxl_vit-h.safetensors\", \n",
    "    torch_dtype=torch.float16\n",
    ")\n",
    "\n",
    "pipe.set_ip_adapter_scale(1)"
   ]
  },
  {
   "cell_type": "markdown",
   "metadata": {},
   "source": [
    "Here we suppose that we obtain `image_embeds` as follows:\n",
    "1. Pass fMRI through the fMRI encoder to get `fmri_embeds`\n",
    "2. Pass EEG through the EEG encoder to get `eeg_embeds`\n",
    "3. Pass `fmri_embeds` and `eeg_embeds` through fuse module to get `combined_embeds`\n",
    "\n",
    "`combined_embeds` should be the same dim, as CLIP-ViT-H-14 embedding, i.e. 1024"
   ]
  },
  {
   "cell_type": "code",
   "execution_count": null,
   "metadata": {},
   "outputs": [],
   "source": [
    "# but here we just set it randomly\n",
    "combined_embeds = torch.randn(1, 1024).to(torch.float16) # vector of dim 1024"
   ]
  },
  {
   "cell_type": "code",
   "execution_count": null,
   "metadata": {},
   "outputs": [],
   "source": [
    "ip_adapter_image_embeds = torch.cat([\n",
    "    torch.zeros_like(combined_embeds),\n",
    "    combined_embeds\n",
    "]).unsqueeze(1)\n",
    "\n",
    "image = pipe(\n",
    "    prompt='', \n",
    "    ip_adapter_image_embeds=[ip_adapter_image_embeds], \n",
    "    num_inference_steps=30,\n",
    "    guidance_scale=5.0,\n",
    ").images[0]\n",
    "\n",
    "image"
   ]
  }
 ],
 "metadata": {
  "kernelspec": {
   "display_name": "visual_stimuli",
   "language": "python",
   "name": "python3"
  },
  "language_info": {
   "codemirror_mode": {
    "name": "ipython",
    "version": 3
   },
   "file_extension": ".py",
   "mimetype": "text/x-python",
   "name": "python",
   "nbconvert_exporter": "python",
   "pygments_lexer": "ipython3",
   "version": "3.10.14"
  }
 },
 "nbformat": 4,
 "nbformat_minor": 2
}
