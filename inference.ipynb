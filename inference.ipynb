{
 "cells": [
  {
   "cell_type": "markdown",
   "metadata": {},
   "source": [
    "## Image generation pipeline"
   ]
  },
  {
   "cell_type": "markdown",
   "metadata": {},
   "source": [
    "### Preliminaries"
   ]
  },
  {
   "cell_type": "code",
   "execution_count": null,
   "metadata": {},
   "outputs": [],
   "source": [
    "%load_ext autoreload\n",
    "%autoreload 2"
   ]
  },
  {
   "cell_type": "code",
   "execution_count": null,
   "metadata": {},
   "outputs": [],
   "source": [
    "from diffusers import AutoPipelineForText2Image\n",
    "from diffusers.utils import load_image, make_image_grid\n",
    "import torch\n",
    "import sys\n",
    "sys.path.append('src')\n",
    "from brain_encoder import BrainEncoder, fMRIBrainEncoder, EEGBrainEncoder\n",
    "from diffusion_prior.model import DiffusionPriorUNet\n",
    "from diffusion_prior.pipeline import DiffusionPrior\n",
    "from omegaconf import OmegaConf\n",
    "from safetensors.torch import load_model\n",
    "import os\n",
    "from dataset import BrainStimuliDataset, select_random_dimension\n",
    "from PIL import Image\n",
    "import numpy as np"
   ]
  },
  {
   "cell_type": "code",
   "execution_count": null,
   "metadata": {},
   "outputs": [],
   "source": [
    "def get_concat_v_cut_center(images):\n",
    "    heights = np.array(list(map(lambda x: x.height, images)))\n",
    "    dst = Image.new('RGB', (min(list(map(lambda x: x.width, images))), \n",
    "                            heights.sum()))\n",
    "    for im, h in zip(images, [0, *heights.cumsum()[:-1]]):\n",
    "        dst.paste(im, (0, h))\n",
    "    return dst"
   ]
  },
  {
   "cell_type": "code",
   "execution_count": null,
   "metadata": {},
   "outputs": [],
   "source": [
    "device = torch.device(\"cuda\" if torch.cuda.is_available() else \"cpu\")"
   ]
  },
  {
   "cell_type": "markdown",
   "metadata": {},
   "source": [
    "### SDXL + IP-Adapter pipeline"
   ]
  },
  {
   "cell_type": "code",
   "execution_count": null,
   "metadata": {},
   "outputs": [],
   "source": [
    "pipe = AutoPipelineForText2Image.from_pretrained(\n",
    "    \"stabilityai/stable-diffusion-xl-base-1.0\", \n",
    "    torch_dtype=torch.float16\n",
    ").to(device)\n",
    "\n",
    "pipe.load_ip_adapter(\n",
    "    \"h94/IP-Adapter\", \n",
    "    subfolder=\"sdxl_models\", \n",
    "    weight_name=\"ip-adapter_sdxl_vit-h.safetensors\", \n",
    "    torch_dtype=torch.float16\n",
    ")\n",
    "\n",
    "pipe.set_ip_adapter_scale(1)"
   ]
  },
  {
   "cell_type": "markdown",
   "metadata": {},
   "source": [
    "### Config"
   ]
  },
  {
   "cell_type": "code",
   "execution_count": null,
   "metadata": {},
   "outputs": [],
   "source": [
    "config_dir = '/home/jovyan/shares/SR004.nfs2/nkiselev/visual_stimuli_reconstruction/CreationOfIntelligentSystems_Simultaneous_fMRI-EEG/train/configs'\n",
    "# config_name = 'pioneer.yaml'\n",
    "# config_name = 'improved-dataloader.yaml'\n",
    "config_name = 'fmri-monkeys.yaml'\n",
    "config_path = os.path.join(config_dir, config_name)\n",
    "config = OmegaConf.load(config_path)"
   ]
  },
  {
   "cell_type": "markdown",
   "metadata": {},
   "source": [
    "### Dataset"
   ]
  },
  {
   "cell_type": "code",
   "execution_count": null,
   "metadata": {},
   "outputs": [],
   "source": [
    "dataset = BrainStimuliDataset(**config.dataloader_kwargs.dataset, mode=config.mode)"
   ]
  },
  {
   "cell_type": "markdown",
   "metadata": {},
   "source": [
    "### BrainEncoder"
   ]
  },
  {
   "cell_type": "code",
   "execution_count": null,
   "metadata": {},
   "outputs": [],
   "source": [
    "# choose corresponding model class\n",
    "if config.mode == 'fmri':\n",
    "    Model = fMRIBrainEncoder\n",
    "elif config.mode == 'eeg':\n",
    "    Model = EEGBrainEncoder\n",
    "elif config.mode == 'both':\n",
    "    Model = BrainEncoder\n",
    "        \n",
    "model = Model(**config.model_kwargs, num_subs=dataset.num_subs).to(device).to(torch.float16)"
   ]
  },
  {
   "cell_type": "code",
   "execution_count": null,
   "metadata": {},
   "outputs": [],
   "source": [
    "steps = 5000\n",
    "filename = os.path.join(config.output_dir, f'checkpoint-{steps}', 'model.safetensors')\n",
    "load_model(model, filename)"
   ]
  },
  {
   "cell_type": "markdown",
   "metadata": {},
   "source": [
    "### DiffusionPrior"
   ]
  },
  {
   "cell_type": "code",
   "execution_count": null,
   "metadata": {},
   "outputs": [],
   "source": [
    "use_diffusion_prior = False"
   ]
  },
  {
   "cell_type": "code",
   "execution_count": null,
   "metadata": {},
   "outputs": [],
   "source": [
    "if use_diffusion_prior:\n",
    "\n",
    "    prior_config_name = 'diffusion-prior.yaml'\n",
    "    prior_config_path = os.path.join(config_dir, prior_config_name)\n",
    "    prior_config = OmegaConf.load(prior_config_path)\n",
    "\n",
    "    diffusion_prior = DiffusionPriorUNet(**prior_config.model_kwargs)\n",
    "\n",
    "    steps = 14000\n",
    "    filename = os.path.join(prior_config.output_dir, f'checkpoint-{steps}', 'model.safetensors')\n",
    "    load_model(diffusion_prior, filename)\n",
    "\n",
    "    prior_pipe = DiffusionPrior(diffusion_prior=diffusion_prior, device=\"cuda\")"
   ]
  },
  {
   "cell_type": "markdown",
   "metadata": {},
   "source": [
    "### Inference"
   ]
  },
  {
   "cell_type": "code",
   "execution_count": null,
   "metadata": {},
   "outputs": [],
   "source": [
    "idx = 700\n",
    "image_idx = 0\n",
    "\n",
    "x = dataset[idx]\n",
    "sub_id = torch.tensor([x['id']]).to(device)\n",
    "if x['fmri'] is not None:\n",
    "    fmri_embeds = x['fmri'].unsqueeze(0).to(device).to(torch.float16)\n",
    "else:\n",
    "    fmri_embeds = None\n",
    "if x['eeg'] is not None:\n",
    "    eeg_embeds = x['eeg'].unsqueeze(0).to(device).to(torch.float16)\n",
    "else:\n",
    "    eeg_embeds = None\n",
    "image_embeds = x['frames'].unsqueeze(0).to(device).to(torch.float16)\n",
    "frame_paths = x['frame_paths']\n",
    "\n",
    "image_path = frame_paths[0].replace('.pt', '.jpg')\n",
    "image = Image.open(image_path)\n",
    "image_embeds = image_embeds[:, image_idx, :]\n",
    "\n",
    "image.show()"
   ]
  },
  {
   "cell_type": "code",
   "execution_count": null,
   "metadata": {},
   "outputs": [],
   "source": [
    "model.eval()\n",
    "with torch.no_grad():\n",
    "    combined_embeds = model(\n",
    "        sub_ids=sub_id, \n",
    "        batch_eeg=eeg_embeds, \n",
    "        batch_fmri=fmri_embeds\n",
    "    ).to(pipe.dtype)"
   ]
  },
  {
   "cell_type": "code",
   "execution_count": null,
   "metadata": {},
   "outputs": [],
   "source": [
    "if use_diffusion_prior:\n",
    "    prior_pipe.diffusion_prior.eval()\n",
    "    with torch.no_grad():\n",
    "        combined_enhanced_embeds = prior_pipe.generate(\n",
    "            combined_embeds=combined_embeds, \n",
    "            num_inference_steps=1000, \n",
    "            guidance_scale=5.0,\n",
    "        ).to(pipe.dtype)"
   ]
  },
  {
   "cell_type": "markdown",
   "metadata": {},
   "source": [
    "### Generation"
   ]
  },
  {
   "cell_type": "code",
   "execution_count": null,
   "metadata": {},
   "outputs": [],
   "source": [
    "ip_adapter_image_embeds = torch.cat([\n",
    "    torch.zeros_like(image_embeds),\n",
    "    image_embeds\n",
    "]).unsqueeze(1)\n",
    "\n",
    "ip_adapter_combined_embeds = torch.cat([\n",
    "    torch.zeros_like(combined_embeds),\n",
    "    combined_embeds\n",
    "]).unsqueeze(1)\n",
    "\n",
    "if use_diffusion_prior:\n",
    "    ip_adapter_combined_enhanced_embeds = torch.cat([\n",
    "        torch.zeros_like(combined_enhanced_embeds),\n",
    "        combined_enhanced_embeds\n",
    "    ]).unsqueeze(1)\n",
    "\n",
    "num_inference_steps = 30\n",
    "guidance_scale = 5.0\n",
    "num_images_per_prompt = 3\n",
    "\n",
    "original_images = pipe(\n",
    "    prompt='', \n",
    "    ip_adapter_image_embeds=[ip_adapter_image_embeds], \n",
    "    num_inference_steps=num_inference_steps,\n",
    "    guidance_scale=guidance_scale,\n",
    "    num_images_per_prompt=num_images_per_prompt\n",
    ").images\n",
    "\n",
    "brain_images = pipe(\n",
    "    prompt='', \n",
    "    ip_adapter_image_embeds=[ip_adapter_combined_embeds], \n",
    "    num_inference_steps=num_inference_steps,\n",
    "    guidance_scale=guidance_scale,\n",
    "    num_images_per_prompt=num_images_per_prompt\n",
    ").images\n",
    "\n",
    "if use_diffusion_prior:\n",
    "    brain_enhanced_images = pipe(\n",
    "        prompt='', \n",
    "        ip_adapter_image_embeds=[ip_adapter_combined_enhanced_embeds], \n",
    "        num_inference_steps=num_inference_steps,\n",
    "        guidance_scale=guidance_scale,\n",
    "        num_images_per_prompt=num_images_per_prompt\n",
    "    ).images"
   ]
  },
  {
   "cell_type": "code",
   "execution_count": null,
   "metadata": {},
   "outputs": [],
   "source": [
    "original_grid = make_image_grid(original_images, 1, len(original_images))\n",
    "brain_grid = make_image_grid(brain_images, 1, len(brain_images))\n",
    "if use_diffusion_prior:\n",
    "    brain_enhanced_grid = make_image_grid(brain_enhanced_images, 1, len(brain_enhanced_images))\n",
    "\n",
    "image_list = [\n",
    "    image.resize((\n",
    "        int(num_images_per_prompt * 1024),\n",
    "        int(num_images_per_prompt * 1024 * image.size[1] / image.size[0])\n",
    "    )), \n",
    "    original_grid, \n",
    "    brain_grid\n",
    "]\n",
    "\n",
    "if use_diffusion_prior:\n",
    "    image_list.append(brain_enhanced_grid)\n",
    "\n",
    "get_concat_v_cut_center(image_list).show()"
   ]
  }
 ],
 "metadata": {
  "kernelspec": {
   "display_name": "visual_stimuli",
   "language": "python",
   "name": "python3"
  },
  "language_info": {
   "codemirror_mode": {
    "name": "ipython",
    "version": 3
   },
   "file_extension": ".py",
   "mimetype": "text/x-python",
   "name": "python",
   "nbconvert_exporter": "python",
   "pygments_lexer": "ipython3",
   "version": "3.10.14"
  }
 },
 "nbformat": 4,
 "nbformat_minor": 2
}
