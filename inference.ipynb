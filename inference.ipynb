{
 "cells": [
  {
   "cell_type": "markdown",
   "metadata": {},
   "source": [
    "## Image generation pipeline"
   ]
  },
  {
   "cell_type": "code",
   "execution_count": null,
   "metadata": {},
   "outputs": [],
   "source": [
    "%load_ext autoreload\n",
    "%autoreload 2"
   ]
  },
  {
   "cell_type": "code",
   "execution_count": null,
   "metadata": {},
   "outputs": [],
   "source": [
    "from diffusers import AutoPipelineForText2Image\n",
    "from diffusers.utils import load_image, make_image_grid\n",
    "import torch\n",
    "import sys\n",
    "sys.path.append('src')\n",
    "from brain_encoder import BrainEncoder\n",
    "from omegaconf import OmegaConf\n",
    "from safetensors.torch import load_model\n",
    "import os\n",
    "from dataset import build_dataloaders, select_random_dimension\n",
    "from PIL import Image\n",
    "import numpy as np"
   ]
  },
  {
   "cell_type": "code",
   "execution_count": null,
   "metadata": {},
   "outputs": [],
   "source": [
    "def get_concat_v_cut_center(images):\n",
    "    heights = np.array(list(map(lambda x: x.height, images)))\n",
    "    dst = Image.new('RGB', (min(list(map(lambda x: x.width, images))), \n",
    "                            heights.sum()))\n",
    "    for im, h in zip(images, [0, *heights.cumsum()[:-1]]):\n",
    "        dst.paste(im, (0, h))\n",
    "    return dst"
   ]
  },
  {
   "cell_type": "code",
   "execution_count": null,
   "metadata": {},
   "outputs": [],
   "source": [
    "pipe = AutoPipelineForText2Image.from_pretrained(\n",
    "    \"stabilityai/stable-diffusion-xl-base-1.0\", \n",
    "    torch_dtype=torch.float16\n",
    ").to(\"cuda\")\n",
    "\n",
    "pipe.load_ip_adapter(\n",
    "    \"h94/IP-Adapter\", \n",
    "    subfolder=\"sdxl_models\", \n",
    "    weight_name=\"ip-adapter_sdxl_vit-h.safetensors\", \n",
    "    torch_dtype=torch.float16\n",
    ")\n",
    "\n",
    "pipe.set_ip_adapter_scale(1)"
   ]
  },
  {
   "cell_type": "code",
   "execution_count": null,
   "metadata": {},
   "outputs": [],
   "source": [
    "config_path = '/home/jovyan/shares/SR004.nfs2/nkiselev/visual_stimuli_reconstruction/CreationOfIntelligentSystems_Simultaneous_fMRI-EEG/train/configs/pioneer.yaml'\n",
    "config = OmegaConf.load(config_path)"
   ]
  },
  {
   "cell_type": "code",
   "execution_count": null,
   "metadata": {},
   "outputs": [],
   "source": [
    "model = BrainEncoder(**config.model_kwargs)"
   ]
  },
  {
   "cell_type": "code",
   "execution_count": null,
   "metadata": {},
   "outputs": [],
   "source": [
    "steps = 14000\n",
    "filename = os.path.join(config.output_dir, f'checkpoint-{steps}', 'model.safetensors')\n",
    "load_model(model, filename)"
   ]
  },
  {
   "cell_type": "code",
   "execution_count": null,
   "metadata": {},
   "outputs": [],
   "source": [
    "train_dataloader, val_dataloader = build_dataloaders(**config.dataloaders_kwargs)"
   ]
  },
  {
   "cell_type": "code",
   "execution_count": null,
   "metadata": {},
   "outputs": [],
   "source": [
    "idx = 21\n",
    "image_idx = 0\n",
    "\n",
    "x = val_dataloader.dataset[idx]\n",
    "sub_id = x['id']\n",
    "fmri_embeds = x['fmri'].unsqueeze(0)\n",
    "eeg_embeds = x['eeg'].unsqueeze(0)\n",
    "image_embeds = x['frames'].unsqueeze(0)\n",
    "frame_paths = x['frame_paths']\n",
    "\n",
    "image_path = frame_paths[0][image_idx].replace('.pt', '.jpg')\n",
    "image = Image.open(image_path)\n",
    "image_embeds = image_embeds[:, image_idx, :]\n",
    "\n",
    "image.show()"
   ]
  },
  {
   "cell_type": "code",
   "execution_count": null,
   "metadata": {},
   "outputs": [],
   "source": [
    "model.eval()\n",
    "with torch.no_grad():\n",
    "    combined_embeds = model(sub_id, eeg_embeds, fmri_embeds).to(pipe.dtype)"
   ]
  },
  {
   "cell_type": "code",
   "execution_count": null,
   "metadata": {},
   "outputs": [],
   "source": [
    "ip_adapter_image_embeds = torch.cat([\n",
    "    torch.zeros_like(image_embeds),\n",
    "    image_embeds\n",
    "]).unsqueeze(1)\n",
    "\n",
    "ip_adapter_combined_embeds = torch.cat([\n",
    "    torch.zeros_like(combined_embeds),\n",
    "    combined_embeds\n",
    "]).unsqueeze(1)\n",
    "\n",
    "num_inference_steps = 30\n",
    "guidance_scale = 5.0\n",
    "num_images_per_prompt = 3\n",
    "\n",
    "original_images = pipe(\n",
    "    prompt='', \n",
    "    ip_adapter_image_embeds=[ip_adapter_image_embeds], \n",
    "    num_inference_steps=num_inference_steps,\n",
    "    guidance_scale=guidance_scale,\n",
    "    num_images_per_prompt=num_images_per_prompt\n",
    ").images\n",
    "\n",
    "brain_images = pipe(\n",
    "    prompt='', \n",
    "    ip_adapter_image_embeds=[ip_adapter_combined_embeds], \n",
    "    num_inference_steps=num_inference_steps,\n",
    "    guidance_scale=guidance_scale,\n",
    "    num_images_per_prompt=num_images_per_prompt\n",
    ").images"
   ]
  },
  {
   "cell_type": "code",
   "execution_count": null,
   "metadata": {},
   "outputs": [],
   "source": [
    "original_grid = make_image_grid(original_images, 1, len(original_images))\n",
    "brain_grid = make_image_grid(brain_images, 1, len(brain_images))\n",
    "\n",
    "get_concat_v_cut_center([\n",
    "    image.resize((\n",
    "        int(num_images_per_prompt * 1024),\n",
    "        int(num_images_per_prompt * 1024 * image.size[1] / image.size[0])\n",
    "    )), \n",
    "    original_grid, \n",
    "    brain_grid\n",
    "]).show()"
   ]
  },
  {
   "cell_type": "markdown",
   "metadata": {},
   "source": [
    "---"
   ]
  },
  {
   "cell_type": "markdown",
   "metadata": {},
   "source": [
    "## Example of image reconstruction with CLIP-ViT-H-14 and SDXL + IP-Adapter"
   ]
  },
  {
   "cell_type": "code",
   "execution_count": null,
   "metadata": {},
   "outputs": [],
   "source": [
    "from diffusers import AutoPipelineForText2Image\n",
    "from diffusers.utils import load_image\n",
    "import torch"
   ]
  },
  {
   "cell_type": "code",
   "execution_count": null,
   "metadata": {},
   "outputs": [],
   "source": [
    "pipe = AutoPipelineForText2Image.from_pretrained(\n",
    "    \"stabilityai/stable-diffusion-xl-base-1.0\", \n",
    "    torch_dtype=torch.float16\n",
    ").to(\"cuda\")\n",
    "\n",
    "pipe.load_ip_adapter(\n",
    "    \"h94/IP-Adapter\", \n",
    "    subfolder=\"sdxl_models\", \n",
    "    weight_name=\"ip-adapter_sdxl_vit-h.safetensors\", \n",
    "    torch_dtype=torch.float16\n",
    ")\n",
    "\n",
    "pipe.set_ip_adapter_scale(1)"
   ]
  },
  {
   "cell_type": "code",
   "execution_count": null,
   "metadata": {},
   "outputs": [],
   "source": [
    "image = load_image('https://preview.redd.it/sdxl-is-really-good-with-cats-v0-n7izni8y1f9c1.png?auto=webp&s=d939d6d86f4402e0ea588faf3ca86d67903a826c')\n",
    "image = image.resize((1024, 1024))\n",
    "image"
   ]
  },
  {
   "cell_type": "code",
   "execution_count": null,
   "metadata": {},
   "outputs": [],
   "source": [
    "import open_clip\n",
    "\n",
    "image_encoder, _, feature_extractor = open_clip.create_model_and_transforms(\n",
    "    'ViT-H-14', pretrained='laion2b_s32b_b79k', precision='fp16', device='cuda')"
   ]
  },
  {
   "cell_type": "code",
   "execution_count": null,
   "metadata": {},
   "outputs": [],
   "source": [
    "image_processed = feature_extractor(image)[None, ...].to(\"cuda\", dtype=torch.float16)\n",
    "image_embeds = image_encoder.encode_image(image_processed)"
   ]
  },
  {
   "cell_type": "code",
   "execution_count": null,
   "metadata": {},
   "outputs": [],
   "source": [
    "ip_adapter_image_embeds = torch.cat([\n",
    "    torch.zeros_like(image_embeds),\n",
    "    image_embeds\n",
    "]).unsqueeze(1)\n",
    "\n",
    "image = pipe(\n",
    "    prompt='', \n",
    "    ip_adapter_image_embeds=[ip_adapter_image_embeds], \n",
    "    num_inference_steps=30,\n",
    "    guidance_scale=5.0,\n",
    ").images[0]\n",
    "\n",
    "image"
   ]
  }
 ],
 "metadata": {
  "kernelspec": {
   "display_name": "visual_stimuli",
   "language": "python",
   "name": "python3"
  },
  "language_info": {
   "codemirror_mode": {
    "name": "ipython",
    "version": 3
   },
   "file_extension": ".py",
   "mimetype": "text/x-python",
   "name": "python",
   "nbconvert_exporter": "python",
   "pygments_lexer": "ipython3",
   "version": "3.10.14"
  }
 },
 "nbformat": 4,
 "nbformat_minor": 2
}
