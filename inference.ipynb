{
 "cells": [
  {
   "cell_type": "markdown",
   "metadata": {},
   "source": [
    "## Image generation pipeline"
   ]
  },
  {
   "cell_type": "markdown",
   "metadata": {},
   "source": [
    "### Preliminaries"
   ]
  },
  {
   "cell_type": "code",
   "execution_count": null,
   "metadata": {},
   "outputs": [],
   "source": [
    "%load_ext autoreload\n",
    "%autoreload 2"
   ]
  },
  {
   "cell_type": "code",
   "execution_count": null,
   "metadata": {},
   "outputs": [],
   "source": [
    "from diffusers import AutoPipelineForText2Image\n",
    "from diffusers.utils import load_image, make_image_grid\n",
    "import torch\n",
    "import sys\n",
    "sys.path.append('src')\n",
    "from brain_encoder import BrainEncoder\n",
    "from diffusion_prior.model import DiffusionPriorUNet\n",
    "from diffusion_prior.pipeline import DiffusionPrior\n",
    "from omegaconf import OmegaConf\n",
    "from safetensors.torch import load_model\n",
    "import os\n",
    "from dataset import BrainStimuliDataset, select_random_dimension\n",
    "from PIL import Image\n",
    "import numpy as np"
   ]
  },
  {
   "cell_type": "code",
   "execution_count": null,
   "metadata": {},
   "outputs": [],
   "source": [
    "def get_concat_v_cut_center(images):\n",
    "    heights = np.array(list(map(lambda x: x.height, images)))\n",
    "    dst = Image.new('RGB', (min(list(map(lambda x: x.width, images))), \n",
    "                            heights.sum()))\n",
    "    for im, h in zip(images, [0, *heights.cumsum()[:-1]]):\n",
    "        dst.paste(im, (0, h))\n",
    "    return dst"
   ]
  },
  {
   "cell_type": "markdown",
   "metadata": {},
   "source": [
    "### SDXL + IP-Adapter pipeline"
   ]
  },
  {
   "cell_type": "code",
   "execution_count": null,
   "metadata": {},
   "outputs": [],
   "source": [
    "pipe = AutoPipelineForText2Image.from_pretrained(\n",
    "    \"stabilityai/stable-diffusion-xl-base-1.0\", \n",
    "    torch_dtype=torch.float16\n",
    ").to(\"cuda\")\n",
    "\n",
    "pipe.load_ip_adapter(\n",
    "    \"h94/IP-Adapter\", \n",
    "    subfolder=\"sdxl_models\", \n",
    "    weight_name=\"ip-adapter_sdxl_vit-h.safetensors\", \n",
    "    torch_dtype=torch.float16\n",
    ")\n",
    "\n",
    "pipe.set_ip_adapter_scale(1)"
   ]
  },
  {
   "cell_type": "markdown",
   "metadata": {},
   "source": [
    "### BrainEncoder"
   ]
  },
  {
   "cell_type": "code",
   "execution_count": null,
   "metadata": {},
   "outputs": [],
   "source": [
    "config_dir = '/home/jovyan/shares/SR004.nfs2/nkiselev/visual_stimuli_reconstruction/CreationOfIntelligentSystems_Simultaneous_fMRI-EEG/train/configs'\n",
    "# config_name = 'pioneer.yaml'\n",
    "config_name = 'improved-dataloader.yaml'\n",
    "config_path = os.path.join(config_dir, config_name)\n",
    "config = OmegaConf.load(config_path)"
   ]
  },
  {
   "cell_type": "code",
   "execution_count": null,
   "metadata": {},
   "outputs": [],
   "source": [
    "model = BrainEncoder(**config.model_kwargs).to(torch.float16)"
   ]
  },
  {
   "cell_type": "code",
   "execution_count": null,
   "metadata": {},
   "outputs": [],
   "source": [
    "steps = 31000\n",
    "filename = os.path.join(config.output_dir, f'checkpoint-{steps}', 'model.safetensors')\n",
    "load_model(model, filename)"
   ]
  },
  {
   "cell_type": "markdown",
   "metadata": {},
   "source": [
    "### DiffusionPrior"
   ]
  },
  {
   "cell_type": "code",
   "execution_count": null,
   "metadata": {},
   "outputs": [],
   "source": [
    "prior_config_name = 'diffusion-prior.yaml'\n",
    "prior_config_path = os.path.join(config_dir, prior_config_name)\n",
    "prior_config = OmegaConf.load(prior_config_path)"
   ]
  },
  {
   "cell_type": "code",
   "execution_count": null,
   "metadata": {},
   "outputs": [],
   "source": [
    "diffusion_prior = DiffusionPriorUNet(**prior_config.model_kwargs)"
   ]
  },
  {
   "cell_type": "code",
   "execution_count": null,
   "metadata": {},
   "outputs": [],
   "source": [
    "steps = 14000\n",
    "filename = os.path.join(prior_config.output_dir, f'checkpoint-{steps}', 'model.safetensors')\n",
    "load_model(diffusion_prior, filename)"
   ]
  },
  {
   "cell_type": "code",
   "execution_count": null,
   "metadata": {},
   "outputs": [],
   "source": [
    "prior_pipe = DiffusionPrior(diffusion_prior=diffusion_prior, device=\"cuda\")"
   ]
  },
  {
   "cell_type": "markdown",
   "metadata": {},
   "source": [
    "### Dataset"
   ]
  },
  {
   "cell_type": "code",
   "execution_count": null,
   "metadata": {},
   "outputs": [],
   "source": [
    "dataset = BrainStimuliDataset(**config.dataloader_kwargs.dataset)"
   ]
  },
  {
   "cell_type": "markdown",
   "metadata": {},
   "source": [
    "### Inference"
   ]
  },
  {
   "cell_type": "code",
   "execution_count": null,
   "metadata": {},
   "outputs": [],
   "source": [
    "idx = 40010\n",
    "image_idx = 0\n",
    "\n",
    "x = dataset[idx]\n",
    "sub_id = torch.tensor([x['id']])\n",
    "fmri_embeds = x['fmri'].unsqueeze(0).to(torch.float16)\n",
    "eeg_embeds = x['eeg'].unsqueeze(0).to(torch.float16)\n",
    "image_embeds = x['frames'].unsqueeze(0).to(torch.float16)\n",
    "frame_paths = x['frame_paths']\n",
    "\n",
    "image_path = frame_paths[0].replace('.pt', '.jpg')\n",
    "image = Image.open(image_path)\n",
    "image_embeds = image_embeds[:, image_idx, :]\n",
    "\n",
    "image.show()"
   ]
  },
  {
   "cell_type": "code",
   "execution_count": null,
   "metadata": {},
   "outputs": [],
   "source": [
    "model.eval()\n",
    "prior_pipe.diffusion_prior.eval()\n",
    "with torch.no_grad():\n",
    "    combined_embeds = model(sub_id, eeg_embeds, fmri_embeds).to(pipe.dtype)\n",
    "    combined_embeds_enhanced = prior_pipe.generate(\n",
    "        combined_embeds=combined_embeds, \n",
    "        num_inference_steps=1000, \n",
    "        guidance_scale=5.0,\n",
    "    ).to(pipe.dtype)"
   ]
  },
  {
   "cell_type": "markdown",
   "metadata": {},
   "source": [
    "### Generation"
   ]
  },
  {
   "cell_type": "code",
   "execution_count": null,
   "metadata": {},
   "outputs": [],
   "source": [
    "ip_adapter_image_embeds = torch.cat([\n",
    "    torch.zeros_like(image_embeds),\n",
    "    image_embeds\n",
    "]).unsqueeze(1)\n",
    "\n",
    "ip_adapter_combined_embeds = torch.cat([\n",
    "    torch.zeros_like(combined_embeds),\n",
    "    combined_embeds\n",
    "]).unsqueeze(1)\n",
    "\n",
    "num_inference_steps = 30\n",
    "guidance_scale = 5.0\n",
    "num_images_per_prompt = 3\n",
    "\n",
    "original_images = pipe(\n",
    "    prompt='', \n",
    "    ip_adapter_image_embeds=[ip_adapter_image_embeds], \n",
    "    num_inference_steps=num_inference_steps,\n",
    "    guidance_scale=guidance_scale,\n",
    "    num_images_per_prompt=num_images_per_prompt\n",
    ").images\n",
    "\n",
    "brain_images = pipe(\n",
    "    prompt='', \n",
    "    ip_adapter_image_embeds=[ip_adapter_combined_embeds], \n",
    "    num_inference_steps=num_inference_steps,\n",
    "    guidance_scale=guidance_scale,\n",
    "    num_images_per_prompt=num_images_per_prompt\n",
    ").images\n",
    "\n",
    "brain_enhanced_images = pipe(\n",
    "    prompt='', \n",
    "    ip_adapter_image_embeds=[ip_adapter_combined_embeds], \n",
    "    num_inference_steps=num_inference_steps,\n",
    "    guidance_scale=guidance_scale,\n",
    "    num_images_per_prompt=num_images_per_prompt\n",
    ").images"
   ]
  },
  {
   "cell_type": "code",
   "execution_count": null,
   "metadata": {},
   "outputs": [],
   "source": [
    "original_grid = make_image_grid(original_images, 1, len(original_images))\n",
    "brain_grid = make_image_grid(brain_images, 1, len(brain_images))\n",
    "brain_enhanced_grid = make_image_grid(brain_enhanced_images, 1, len(brain_enhanced_images))\n",
    "\n",
    "get_concat_v_cut_center([\n",
    "    # image.resize((\n",
    "    #     int(num_images_per_prompt * 1024),\n",
    "    #     int(num_images_per_prompt * 1024 * image.size[1] / image.size[0])\n",
    "    # )), \n",
    "    original_grid, \n",
    "    brain_grid,\n",
    "    brain_enhanced_grid\n",
    "]).show()"
   ]
  }
 ],
 "metadata": {
  "kernelspec": {
   "display_name": "visual_stimuli",
   "language": "python",
   "name": "python3"
  },
  "language_info": {
   "codemirror_mode": {
    "name": "ipython",
    "version": 3
   },
   "file_extension": ".py",
   "mimetype": "text/x-python",
   "name": "python",
   "nbconvert_exporter": "python",
   "pygments_lexer": "ipython3",
   "version": "3.10.14"
  }
 },
 "nbformat": 4,
 "nbformat_minor": 2
}
