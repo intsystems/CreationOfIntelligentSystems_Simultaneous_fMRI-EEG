{
 "cells": [
  {
   "cell_type": "code",
   "execution_count": null,
   "metadata": {},
   "outputs": [],
   "source": [
    "%load_ext autoreload\n",
    "%autoreload 2"
   ]
  },
  {
   "cell_type": "code",
   "execution_count": null,
   "metadata": {},
   "outputs": [],
   "source": [
    "import sys\n",
    "sys.path.append('../src')\n",
    "from diffusion_prior.pipeline import DiffusionPrior\n",
    "from diffusion_prior.model import DiffusionPriorUNet\n",
    "from diffusion_prior.dataset import EmbeddingDataset, EmbeddingDataLoader\n",
    "\n",
    "import torch"
   ]
  },
  {
   "cell_type": "code",
   "execution_count": null,
   "metadata": {},
   "outputs": [],
   "source": [
    "# define prior model (U-Net) with condition dim = combined embed dim = CLIP-ViT-H-14 dim = 1024\n",
    "prior_model = DiffusionPriorUNet(cond_dim=1024)\n",
    "\n",
    "# define prior pipeline with train() and generate() methods\n",
    "pipe = DiffusionPrior(prior_model)"
   ]
  },
  {
   "cell_type": "code",
   "execution_count": null,
   "metadata": {},
   "outputs": [],
   "source": [
    "# set random combined and image embeddings\n",
    "combined_embeddings = torch.randn(64, 1024)\n",
    "image_embeddings = torch.randn(64, 1024)"
   ]
  },
  {
   "cell_type": "code",
   "execution_count": null,
   "metadata": {},
   "outputs": [],
   "source": [
    "# initialize custom dataset with pairs (combined embed, image embed)\n",
    "dataset = EmbeddingDataset(combined_embeddings, image_embeddings)"
   ]
  },
  {
   "cell_type": "code",
   "execution_count": null,
   "metadata": {},
   "outputs": [],
   "source": [
    "# initialize custom dataloader\n",
    "dataloader = EmbeddingDataLoader(dataset, batch_size=16)"
   ]
  },
  {
   "cell_type": "code",
   "execution_count": null,
   "metadata": {},
   "outputs": [],
   "source": [
    "# train prior diffusion model over num_epochs epochs with learning_rate lr\n",
    "pipe.train(dataloader, num_epochs=10, learning_rate=1e-4)"
   ]
  },
  {
   "cell_type": "code",
   "execution_count": null,
   "metadata": {},
   "outputs": [],
   "source": [
    "# test generate() method\n",
    "# P.S. it requires [B, 1024] dimension\n",
    "combined_embeds = combined_embeddings[0].unsqueeze(0)\n",
    "image_embeds = image_embeddings[0].unsqueeze(0)"
   ]
  },
  {
   "cell_type": "code",
   "execution_count": null,
   "metadata": {},
   "outputs": [],
   "source": [
    "# generate image embedding with prior model from combined embedding\n",
    "image_embeds_generated = pipe.generate(\n",
    "    combined_embeds=combined_embeds, \n",
    "    num_inference_steps=50, \n",
    "    guidance_scale=5.0\n",
    ")"
   ]
  }
 ],
 "metadata": {
  "kernelspec": {
   "display_name": "visual_stimuli",
   "language": "python",
   "name": "python3"
  },
  "language_info": {
   "codemirror_mode": {
    "name": "ipython",
    "version": 3
   },
   "file_extension": ".py",
   "mimetype": "text/x-python",
   "name": "python",
   "nbconvert_exporter": "python",
   "pygments_lexer": "ipython3",
   "version": "3.10.14"
  }
 },
 "nbformat": 4,
 "nbformat_minor": 2
}
